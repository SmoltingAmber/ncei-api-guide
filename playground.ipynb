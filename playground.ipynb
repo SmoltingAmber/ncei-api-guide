{
 "cells": [
  {
   "cell_type": "markdown",
   "metadata": {},
   "source": [
    "# A Playground Notebook for Experimenting with the NCEI APIs"
   ]
  },
  {
   "cell_type": "markdown",
   "metadata": {},
   "source": [
    "Query API's"
   ]
  },
  {
   "cell_type": "code",
   "execution_count": 2,
   "metadata": {},
   "outputs": [],
   "source": [
    "import requests"
   ]
  },
  {
   "cell_type": "code",
   "execution_count": 3,
   "metadata": {},
   "outputs": [],
   "source": [
    "result = requests.get('https://www.ncei.noaa.gov/access/services/support/v3/datasets/global-marine.json').json()"
   ]
  },
  {
   "cell_type": "markdown",
   "metadata": {},
   "source": [
    "Extract all of the result key discriptions in 'dataTypes'"
   ]
  },
  {
   "cell_type": "code",
   "execution_count": 11,
   "metadata": {},
   "outputs": [
    {
     "data": {
      "text/plain": [
       "dict_keys(['id', 'name', 'dsiNumber', 'featured', 'fileId', 'searchWeight', 'interfaceOptions', 'orderOptions', 'searchOptions', 'dataTypes', 'formats'])"
      ]
     },
     "execution_count": 11,
     "metadata": {},
     "output_type": "execute_result"
    }
   ],
   "source": [
    "#get all of the top-level keys in the returned json data\n",
    "result.keys()"
   ]
  },
  {
   "cell_type": "code",
   "execution_count": 13,
   "metadata": {},
   "outputs": [],
   "source": [
    "#pick out the 'dataTypes' element\n",
    "dtypes = result['dataTypes']"
   ]
  },
  {
   "cell_type": "code",
   "execution_count": 14,
   "metadata": {},
   "outputs": [],
   "source": [
    "#pick out the identifier and description for every attribute in 'dataTypes'\n",
    "names = [t['name']for t in dtypes]\n",
    "ids = [t['id']for t in dtypes]"
   ]
  },
  {
   "cell_type": "code",
   "execution_count": 15,
   "metadata": {},
   "outputs": [],
   "source": [
    "tableString = ''\n",
    "links = ''\n",
    "for i in range(len(ids)):\n",
    "    #Build markdown table with attribute identifiers and descriptions\n",
    "    tableString += (f\"|<span id='{ids[i]}'>{ids[i]}</span>|{names[i]}|\\n\")\n",
    "    #Build list of attribute identifiers hyperlinked to the markdown table of dataTypes possible values\n",
    "    links += f\"[{ids[i]}](https://github.com/partytax/ncei-api-guide#user-content-{ids[i].lower()}), \""
   ]
  },
  {
   "cell_type": "code",
   "execution_count": 19,
   "metadata": {},
   "outputs": [
    {
     "name": "stdout",
     "output_type": "stream",
     "text": [
      "|<span id='ACCESS_STATUS_IND_ERR'>ACCESS_STATUS_IND_ERR</span>|Access Status Indicator - Error|\n",
      "|<span id='ACCESS_STATUS_IND_IVAD'>ACCESS_STATUS_IND_IVAD</span>|Access Status Indicator|\n",
      "|<span id='ADAPTIVE_QC_FLAGS'>ADAPTIVE_QC_FLAGS</span>|ADAPTIVE_QC_FLAGS|\n",
      "|<span id='AF-TRIM_FLAG'>AF-TRIM_FLAG</span>|Trimming Flag - Air Temperature|\n",
      "|<span id='AH-HI_CLD_AMT_ECR'>AH-HI_CLD_AMT_ECR</span>|Extended Cloud Reconstructions High Cloud Amount|\n",
      "|<span id='AIR_TEMP'>AIR_TEMP</span>|Air Temperature|\n",
      "|<span id='AM-MID_CLD_AMT_ECR'>AM-MID_CLD_AMT_ECR</span>|Extended Cloud Reconstructions Middle Cloud Amount|\n",
      "|<span id='AMT_PRECIP'>AMT_PRECIP</span>|Precipitation Amount|\n",
      "|<span id='AMT_PRES_TEND'>AMT_PRES_TEND</span>|Pressure Tendency|\n",
      "|<span id='ANC-NCDC_QC_FLAGS'>ANC-NCDC_QC_FLAGS</span>|NCDC QC Flags - Air Temp|\n",
      "|<span id='AQA-ADAPTIVE_QC_FLAGS'>AQA-ADAPTIVE_QC_FLAGS</span>|Adaptive QC Flag - Air Temperature|\n",
      "|<span id='AQZ-ADAPTIVE_QC_FLAGS'>AQZ-ADAPTIVE_QC_FLAGS</span>|Adaptive QC Flag - Air\n"
     ]
    }
   ],
   "source": [
    "print(tableString[0:1000])"
   ]
  },
  {
   "cell_type": "code",
   "execution_count": 20,
   "metadata": {},
   "outputs": [
    {
     "name": "stdout",
     "output_type": "stream",
     "text": [
      "[ACCESS_STATUS_IND_ERR](https://github.com/partytax/ncei-api-guide#user-content-access_status_ind_err), [ACCESS_STATUS_IND_IVAD](https://github.com/partytax/ncei-api-guide#user-content-access_status_ind_ivad), [ADAPTIVE_QC_FLAGS](https://github.com/partytax/ncei-api-guide#user-content-adaptive_qc_flags), [AF-TRIM_FLAG](https://github.com/partytax/ncei-api-guide#user-content-af-trim_flag), [AH-HI_CLD_AMT_ECR](https://github.com/partytax/ncei-api-guide#user-content-ah-hi_cld_amt_ecr), [AIR_TEMP](https://github.com/partytax/ncei-api-guide#user-content-air_temp), [AM-MID_CLD_AMT_ECR](https://github.com/partytax/ncei-api-guide#user-content-am-mid_cld_amt_ecr), [AMT_PRECIP](https://github.com/partytax/ncei-api-guide#user-content-amt_precip), [AMT_PRES_TEND](https://github.com/partytax/ncei-api-guide#user-content-amt_pres_tend), [ANC-NCDC_QC_FLAGS](https://github.com/partytax/ncei-api-guide#user-content-anc-ncdc_qc_flags), [AQA-ADAPTIVE_QC_FLAGS](https://github.com/partytax/ncei-api-guide#use\n"
     ]
    }
   ],
   "source": [
    "print(links[0:1000])"
   ]
  }
 ],
 "metadata": {
  "kernelspec": {
   "display_name": "Python 3",
   "language": "python",
   "name": "python3"
  },
  "language_info": {
   "codemirror_mode": {
    "name": "ipython",
    "version": 3
   },
   "file_extension": ".py",
   "mimetype": "text/x-python",
   "name": "python",
   "nbconvert_exporter": "python",
   "pygments_lexer": "ipython3",
   "version": "3.7.4"
  }
 },
 "nbformat": 4,
 "nbformat_minor": 4
}
